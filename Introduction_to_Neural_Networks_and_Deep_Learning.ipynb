{
  "nbformat": 4,
  "nbformat_minor": 0,
  "metadata": {
    "colab": {
      "name": " Introduction to Neural Networks and Deep Learning_R7_INN_Project2.ipynb",
      "provenance": [],
      "collapsed_sections": []
    },
    "kernelspec": {
      "name": "python3",
      "display_name": "Python 3"
    }
  },
  "cells": [
    {
      "cell_type": "code",
      "metadata": {
        "id": "7pz1ejm_TDZP",
        "colab_type": "code",
        "colab": {
          "base_uri": "https://localhost:8080/",
          "height": 124
        },
        "outputId": "beee10e0-759f-4732-e087-d90c0c54f54b"
      },
      "source": [
        "from google.colab import drive\n",
        "drive.mount('/gdrive')"
      ],
      "execution_count": 1,
      "outputs": [
        {
          "output_type": "stream",
          "text": [
            "Go to this URL in a browser: https://accounts.google.com/o/oauth2/auth?client_id=947318989803-6bn6qk8qdgf4n4g3pfee6491hc0brc4i.apps.googleusercontent.com&redirect_uri=urn%3aietf%3awg%3aoauth%3a2.0%3aoob&response_type=code&scope=email%20https%3a%2f%2fwww.googleapis.com%2fauth%2fdocs.test%20https%3a%2f%2fwww.googleapis.com%2fauth%2fdrive%20https%3a%2f%2fwww.googleapis.com%2fauth%2fdrive.photos.readonly%20https%3a%2f%2fwww.googleapis.com%2fauth%2fpeopleapi.readonly\n",
            "\n",
            "Enter your authorization code:\n",
            "··········\n",
            "Mounted at /gdrive\n"
          ],
          "name": "stdout"
        }
      ]
    },
    {
      "cell_type": "code",
      "metadata": {
        "id": "eR75j4mrTfDU",
        "colab_type": "code",
        "colab": {
          "base_uri": "https://localhost:8080/",
          "height": 121
        },
        "outputId": "875995dd-e422-4304-a6c7-71701e80e3b0"
      },
      "source": [
        "!pip3 install -U tensorflow==2.0.0 --quiet\n"
      ],
      "execution_count": 2,
      "outputs": [
        {
          "output_type": "stream",
          "text": [
            "\u001b[K     |████████████████████████████████| 86.3MB 74kB/s \n",
            "\u001b[K     |████████████████████████████████| 450kB 52.6MB/s \n",
            "\u001b[K     |████████████████████████████████| 3.8MB 48.7MB/s \n",
            "\u001b[K     |████████████████████████████████| 81kB 10.5MB/s \n",
            "\u001b[31mERROR: tensorboard 2.0.2 has requirement grpcio>=1.24.3, but you'll have grpcio 1.15.0 which is incompatible.\u001b[0m\n",
            "\u001b[31mERROR: google-colab 1.0.0 has requirement google-auth~=1.4.0, but you'll have google-auth 1.7.2 which is incompatible.\u001b[0m\n",
            "\u001b[?25h"
          ],
          "name": "stdout"
        }
      ]
    },
    {
      "cell_type": "code",
      "metadata": {
        "id": "UkqHkrv0UgWR",
        "colab_type": "code",
        "colab": {}
      },
      "source": [
        "import tensorflow as tf\n",
        "import h5py"
      ],
      "execution_count": 0,
      "outputs": []
    },
    {
      "cell_type": "code",
      "metadata": {
        "id": "VlZ-kJn-XC4s",
        "colab_type": "code",
        "colab": {}
      },
      "source": [
        "f = h5py.File(\"/gdrive/My Drive/Neural Network Project/SVHN_single_grey1.h5\")"
      ],
      "execution_count": 0,
      "outputs": []
    },
    {
      "cell_type": "code",
      "metadata": {
        "id": "yrNFpOsUXCv0",
        "colab_type": "code",
        "colab": {
          "base_uri": "https://localhost:8080/",
          "height": 225
        },
        "outputId": "a27163af-85f1-4c35-85b0-5646157c4bee"
      },
      "source": [
        "print(\"Shape for train X:\")\n",
        "print(f[X_train].shape)\n",
        "print(\"Shape for val X:\")\n",
        "print(f[X_val].shape)\n",
        "print(\"Shape for test X:\")\n",
        "print(f[X_test].shape)\n",
        "print(\"Shape for test Y:\")\n",
        "print(f[y_test].shape)\n",
        "print(\"Shape for train Y:\")\n",
        "print(f[y_train].shape)\n",
        "print(\"Shape for val Y:\")\n",
        "print(f[y_val].shape)"
      ],
      "execution_count": 33,
      "outputs": [
        {
          "output_type": "stream",
          "text": [
            "Shape for train X:\n",
            "(42000, 32, 32)\n",
            "Shape for val X:\n",
            "(60000, 32, 32)\n",
            "Shape for test X:\n",
            "(18000, 32, 32)\n",
            "Shape for test Y:\n",
            "(18000,)\n",
            "Shape for train Y:\n",
            "(42000,)\n",
            "Shape for val Y:\n",
            "(60000,)\n"
          ],
          "name": "stdout"
        }
      ]
    },
    {
      "cell_type": "code",
      "metadata": {
        "id": "_hU5PiLCUCt1",
        "colab_type": "code",
        "colab": {
          "base_uri": "https://localhost:8080/",
          "height": 294
        },
        "outputId": "0afb8752-5dba-4d58-8a9f-ff932779ad52"
      },
      "source": [
        "#Let's review the data\n",
        "import numpy as np\n",
        "\n",
        "import matplotlib.pyplot as plt\n",
        "img_num = np.random.randint(0, f[X_test].shape[0]) #Get a random integer between 0 and number of examples in test dataset\n",
        "plt.imshow(f[X_test][img_num],cmap='gray') #Show the image from test dataset\n",
        "plt.suptitle('Number: ' + str(f[y_test][img_num]))\n",
        "plt.show()"
      ],
      "execution_count": 21,
      "outputs": [
        {
          "output_type": "display_data",
          "data": {
            "image/png": "[encoded data removed]",
            "text/plain": [
              "<Figure size 432x288 with 1 Axes>"
            ]
          },
          "metadata": {
            "tags": []
          }
        }
      ]
    },
    {
      "cell_type": "code",
      "metadata": {
        "id": "Y-9fXyMzUcxU",
        "colab_type": "code",
        "colab": {
          "base_uri": "https://localhost:8080/",
          "height": 35
        },
        "outputId": "fafe2ec0-007c-4b48-dc14-f324c3b3ae61"
      },
      "source": [
        "f[X_train].dtype"
      ],
      "execution_count": 22,
      "outputs": [
        {
          "output_type": "execute_result",
          "data": {
            "text/plain": [
              "dtype('<f4')"
            ]
          },
          "metadata": {
            "tags": []
          },
          "execution_count": 22
        }
      ]
    },
    {
      "cell_type": "code",
      "metadata": {
        "id": "BSTZqNRgfQSA",
        "colab_type": "code",
        "colab": {}
      },
      "source": [
        "trainX_np=np.array(f[X_train])\n",
        "testX_np=np.array(f[X_test])\n",
        "valX_np=np.array(f[X_val])\n",
        "valy_np=np.array(f[y_val])\n",
        "\n",
        "trainy_np=np.array(f[y_train])\n",
        "testy_np=np.array(f[y_test])"
      ],
      "execution_count": 0,
      "outputs": []
    },
    {
      "cell_type": "code",
      "metadata": {
        "id": "3-Yq_o-RdY0w",
        "colab_type": "code",
        "colab": {},
        "cellView": "form"
      },
      "source": [
        "#@title Perform KNN on datasets\n"
      ],
      "execution_count": 0,
      "outputs": []
    },
    {
      "cell_type": "code",
      "metadata": {
        "id": "yafEcVZOdYx0",
        "colab_type": "code",
        "colab": {}
      },
      "source": [
        "# Changing dimensions to N x D = 32x32\n",
        "# Number of samples you want in training data. 42,000 is max.\n",
        "\n",
        "x_tr=[]\n",
        "for i in range(42000):\n",
        "    x_tr.append(trainX_np[i,:].flatten())\n",
        "x_val = []\n",
        "for i in range(60000):\n",
        "    x_val.append(valX_np[i,:].flatten())\n",
        "x_te = []\n",
        "for i in range(18000):\n",
        "    x_te.append(testX_np[i,:].flatten())"
      ],
      "execution_count": 0,
      "outputs": []
    },
    {
      "cell_type": "code",
      "metadata": {
        "id": "PFoM_38gdYu7",
        "colab_type": "code",
        "colab": {
          "base_uri": "https://localhost:8080/",
          "height": 52
        },
        "outputId": "307ca1bc-a499-4369-9ecd-8fbea201733c"
      },
      "source": [
        "print(len(x_tr),len(x_tr[0]))\n",
        "print(len(x_te),len(x_te[0]))"
      ],
      "execution_count": 41,
      "outputs": [
        {
          "output_type": "stream",
          "text": [
            "42000 1024\n",
            "18000 1024\n"
          ],
          "name": "stdout"
        }
      ]
    },
    {
      "cell_type": "code",
      "metadata": {
        "id": "Jk0J9Ox_dYrl",
        "colab_type": "code",
        "colab": {}
      },
      "source": [
        "class NN:\n",
        "    def __init__(self):\n",
        "        pass\n",
        "    \n",
        "    # Memorize the training data    \n",
        "    def train(self, X, y):\n",
        "        # X is 2D if size N x D = 32x32, so each row is an example\n",
        "        # y is 1D of size N\n",
        "        self.tr_x = X\n",
        "        self.tr_y = y\n",
        "        \n",
        "    # For the test image:\n",
        "    #  find nearest train image with minimum distance from the test image\n",
        "    #  predict the label of nearest training image\n",
        "    def predict(self, x):\n",
        "        # x is of size D = 32x32 for which we want to predict the label\n",
        "        # returns the predicted label for the input x\n",
        "        min_idx = None\n",
        "        min_dist = 100000000 #Setting minimum distance to maximum\n",
        "        for test_sample in range(len(self.tr_x)):\n",
        "            dist = 0\n",
        "            for each_value in range(len(self.tr_x[0])):\n",
        "                dist += abs(float((self.tr_x[test_sample][each_value] - x[each_value])))\n",
        "            if dist < min_dist:\n",
        "                min_dist = dist\n",
        "                min_idx = test_sample\n",
        "        return self.tr_y[min_idx] "
      ],
      "execution_count": 0,
      "outputs": []
    },
    {
      "cell_type": "code",
      "metadata": {
        "id": "J45FQUHMdYpA",
        "colab_type": "code",
        "colab": {}
      },
      "source": [
        "classifier = NN()"
      ],
      "execution_count": 0,
      "outputs": []
    },
    {
      "cell_type": "code",
      "metadata": {
        "id": "FFTTpeIJdYmW",
        "colab_type": "code",
        "colab": {}
      },
      "source": [
        "classifier.train(x_tr, trainy_np)"
      ],
      "execution_count": 0,
      "outputs": []
    },
    {
      "cell_type": "code",
      "metadata": {
        "id": "9BfJ3UTFdYjP",
        "colab_type": "code",
        "colab": {
          "base_uri": "https://localhost:8080/",
          "height": 814
        },
        "outputId": "a0f142e1-a379-4194-dace-d4df5c1a5000"
      },
      "source": [
        "import matplotlib.pyplot as plt\n",
        "plt.figure(figsize=(2,2))\n",
        "plt.imshow(testX_np[3],cmap=\"gray\")\n",
        "plt.show()\n",
        "print(classifier.predict(x_te[3]))\n",
        "plt.figure(figsize=(2,2))\n",
        "plt.imshow(testX_np[2],cmap=\"gray\")\n",
        "plt.show()\n",
        "print(classifier.predict(x_te[2]))\n",
        "plt.figure(figsize=(2,2))\n",
        "plt.imshow(testX_np[33],cmap=\"gray\")\n",
        "plt.show()\n",
        "print(classifier.predict(x_te[33]))\n",
        "plt.figure(figsize=(2,2))\n",
        "plt.imshow(testX_np[59],cmap=\"gray\")\n",
        "plt.show()\n",
        "print(classifier.predict(x_te[59]))\n",
        "plt.figure(figsize=(2,2))\n",
        "plt.imshow(testX_np[36],cmap=\"gray\")\n",
        "plt.show()\n",
        "print(classifier.predict(x_te[36]))"
      ],
      "execution_count": 47,
      "outputs": [
        {
          "output_type": "display_data",
          "data": {
            "image/png": "[encoded data removed]",
            "text/plain": [
              "<Figure size 144x144 with 1 Axes>"
            ]
          },
          "metadata": {
            "tags": []
          }
        },
        {
          "output_type": "stream",
          "text": [
            "9\n"
          ],
          "name": "stdout"
        },
        {
          "output_type": "display_data",
          "data": {
            "image/png": "[encoded data removed]",
            "text/plain": [
              "<Figure size 144x144 with 1 Axes>"
            ]
          },
          "metadata": {
            "tags": []
          }
        },
        {
          "output_type": "stream",
          "text": [
            "6\n"
          ],
          "name": "stdout"
        },
        {
          "output_type": "display_data",
          "data": {
            "image/png": "[encoded data removed]",
            "text/plain": [
              "<Figure size 144x144 with 1 Axes>"
            ]
          },
          "metadata": {
            "tags": []
          }
        },
        {
          "output_type": "stream",
          "text": [
            "5\n"
          ],
          "name": "stdout"
        },
        {
          "output_type": "display_data",
          "data": {
            "image/png": "[encoded data removed]",
            "text/plain": [
              "<Figure size 144x144 with 1 Axes>"
            ]
          },
          "metadata": {
            "tags": []
          }
        },
        {
          "output_type": "stream",
          "text": [
            "6\n"
          ],
          "name": "stdout"
        },
        {
          "output_type": "display_data",
          "data": {
            "image/png": "[encoded data removed]",
            "text/plain": [
              "<Figure size 144x144 with 1 Axes>"
            ]
          },
          "metadata": {
            "tags": []
          }
        },
        {
          "output_type": "stream",
          "text": [
            "9\n"
          ],
          "name": "stdout"
        }
      ]
    },
    {
      "cell_type": "code",
      "metadata": {
        "id": "_9YtAyZpg546",
        "colab_type": "code",
        "colab": {},
        "cellView": "form"
      },
      "source": [
        "#@title Work with deep neural methods\n"
      ],
      "execution_count": 0,
      "outputs": []
    },
    {
      "cell_type": "code",
      "metadata": {
        "id": "IJwv3_16g4pW",
        "colab_type": "code",
        "colab": {}
      },
      "source": [
        "trainX=tf.convert_to_tensor(value=f[X_train])\n",
        "testX=tf.convert_to_tensor(value=f[X_test])\n",
        "valX=tf.convert_to_tensor(value=f[X_val])\n",
        "valy=tf.convert_to_tensor(value=f[y_val])\n",
        "\n",
        "trainy=tf.convert_to_tensor(value=f[y_train])\n",
        "testy=tf.convert_to_tensor(value=f[y_test])"
      ],
      "execution_count": 0,
      "outputs": []
    },
    {
      "cell_type": "code",
      "metadata": {
        "id": "k7TBgT1zZvD6",
        "colab_type": "code",
        "colab": {}
      },
      "source": [
        "#Convert labels to one hot encoding\n",
        "trainy = tf.keras.utils.to_categorical(trainy, num_classes=10)\n",
        "testy = tf.keras.utils.to_categorical(testy, num_classes=10)\n",
        "valy = tf.keras.utils.to_categorical(valy, num_classes=10)"
      ],
      "execution_count": 0,
      "outputs": []
    },
    {
      "cell_type": "code",
      "metadata": {
        "id": "dUr3MHo1aKaI",
        "colab_type": "code",
        "colab": {}
      },
      "source": [
        "#Clear out tensorflow memory\n",
        "tf.keras.backend.clear_session()\n",
        "\n",
        "#Initialize Sequential model\n",
        "model = tf.keras.models.Sequential()\n",
        "\n",
        "#Reshape data from 2D to 1D -> 32x32 to 1024\n",
        "model.add(tf.keras.layers.Reshape((1024,),input_shape=(32,32,)))\n",
        "\n",
        "#Normalize the data\n",
        "model.add(tf.keras.layers.BatchNormalization())"
      ],
      "execution_count": 0,
      "outputs": []
    },
    {
      "cell_type": "code",
      "metadata": {
        "id": "uFCbqQydaXSU",
        "colab_type": "code",
        "colab": {}
      },
      "source": [
        "#Add 1st hidden layer\n",
        "model.add(tf.keras.layers.Dense(500, activation='relu'))"
      ],
      "execution_count": 0,
      "outputs": []
    },
    {
      "cell_type": "code",
      "metadata": {
        "id": "IXwpoxyFh1CV",
        "colab_type": "code",
        "colab": {}
      },
      "source": [
        "#Add 2nd hidden layer\n",
        "model.add(tf.keras.layers.Dense(250, activation='relu'))"
      ],
      "execution_count": 0,
      "outputs": []
    },
    {
      "cell_type": "code",
      "metadata": {
        "id": "hM_5oQ8Eh4uk",
        "colab_type": "code",
        "colab": {}
      },
      "source": [
        "#Add 3rd hidden layer\n",
        "model.add(tf.keras.layers.Dense(125, activation='relu'))"
      ],
      "execution_count": 0,
      "outputs": []
    },
    {
      "cell_type": "code",
      "metadata": {
        "id": "eomNMN11iLr3",
        "colab_type": "code",
        "colab": {}
      },
      "source": [
        "#Add 4th hidden layer\n",
        "model.add(tf.keras.layers.Dense(60, activation='relu'))"
      ],
      "execution_count": 0,
      "outputs": []
    },
    {
      "cell_type": "code",
      "metadata": {
        "id": "jbnUzdd1iQmM",
        "colab_type": "code",
        "colab": {}
      },
      "source": [
        "#Add 5th hidden layer\n",
        "model.add(tf.keras.layers.Dense(30, activation='relu'))"
      ],
      "execution_count": 0,
      "outputs": []
    },
    {
      "cell_type": "code",
      "metadata": {
        "id": "1yTKhA1Tic6Y",
        "colab_type": "code",
        "colab": {}
      },
      "source": [
        "#Add OUTPUT layer\n",
        "model.add(tf.keras.layers.Dense(10, activation='softmax'))"
      ],
      "execution_count": 0,
      "outputs": []
    },
    {
      "cell_type": "code",
      "metadata": {
        "id": "nzJV9qd2ieNa",
        "colab_type": "code",
        "colab": {}
      },
      "source": [
        "#Compile the model\n",
        "#adam = tf.keras.optimizers.Adam(learning_rate=0.005)\n",
        "model.compile(optimizer='adam', loss='categorical_crossentropy', \n",
        "              metrics=['accuracy'])"
      ],
      "execution_count": 0,
      "outputs": []
    },
    {
      "cell_type": "code",
      "metadata": {
        "id": "sOmQjSOfihuK",
        "colab_type": "code",
        "colab": {
          "base_uri": "https://localhost:8080/",
          "height": 433
        },
        "outputId": "5210a3ad-97ab-46c7-e456-424020889e47"
      },
      "source": [
        "model.summary()"
      ],
      "execution_count": 113,
      "outputs": [
        {
          "output_type": "stream",
          "text": [
            "Model: \"sequential\"\n",
            "_________________________________________________________________\n",
            "Layer (type)                 Output Shape              Param #   \n",
            "=================================================================\n",
            "reshape (Reshape)            (None, 1024)              0         \n",
            "_________________________________________________________________\n",
            "batch_normalization (BatchNo (None, 1024)              4096      \n",
            "_________________________________________________________________\n",
            "dense (Dense)                (None, 500)               512500    \n",
            "_________________________________________________________________\n",
            "dense_1 (Dense)              (None, 250)               125250    \n",
            "_________________________________________________________________\n",
            "dense_2 (Dense)              (None, 125)               31375     \n",
            "_________________________________________________________________\n",
            "dense_3 (Dense)              (None, 60)                7560      \n",
            "_________________________________________________________________\n",
            "dense_4 (Dense)              (None, 30)                1830      \n",
            "_________________________________________________________________\n",
            "dense_5 (Dense)              (None, 10)                310       \n",
            "=================================================================\n",
            "Total params: 682,921\n",
            "Trainable params: 680,873\n",
            "Non-trainable params: 2,048\n",
            "_________________________________________________________________\n"
          ],
          "name": "stdout"
        }
      ]
    },
    {
      "cell_type": "code",
      "metadata": {
        "id": "JjJXxWITij4W",
        "colab_type": "code",
        "colab": {
          "base_uri": "https://localhost:8080/",
          "height": 225
        },
        "outputId": "a44eebe1-c34f-4540-ae8b-771ac5d5a85e"
      },
      "source": [
        "model.fit(trainX,trainy,          \n",
        "          validation_data=(valX,valy),\n",
        "          epochs=5,\n",
        "          batch_size=32)"
      ],
      "execution_count": 115,
      "outputs": [
        {
          "output_type": "stream",
          "text": [
            "Train on 42000 samples, validate on 60000 samples\n",
            "Epoch 1/5\n",
            "42000/42000 [==============================] - 22s 517us/sample - loss: 0.6802 - accuracy: 0.7855 - val_loss: 0.5449 - val_accuracy: 0.8346\n",
            "Epoch 2/5\n",
            "42000/42000 [==============================] - 22s 521us/sample - loss: 0.6402 - accuracy: 0.8003 - val_loss: 0.5395 - val_accuracy: 0.8370\n",
            "Epoch 3/5\n",
            "42000/42000 [==============================] - 22s 514us/sample - loss: 0.6096 - accuracy: 0.8089 - val_loss: 0.5025 - val_accuracy: 0.8480\n",
            "Epoch 4/5\n",
            "42000/42000 [==============================] - 22s 512us/sample - loss: 0.5781 - accuracy: 0.8178 - val_loss: 0.4714 - val_accuracy: 0.8580\n",
            "Epoch 5/5\n",
            "42000/42000 [==============================] - 22s 512us/sample - loss: 0.5572 - accuracy: 0.8251 - val_loss: 0.4650 - val_accuracy: 0.8598\n"
          ],
          "name": "stdout"
        },
        {
          "output_type": "execute_result",
          "data": {
            "text/plain": [
              "<tensorflow.python.keras.callbacks.History at 0x7f368f5e32e8>"
            ]
          },
          "metadata": {
            "tags": []
          },
          "execution_count": 115
        }
      ]
    },
    {
      "cell_type": "code",
      "metadata": {
        "id": "gPve9PgtirOj",
        "colab_type": "code",
        "colab": {}
      },
      "source": [
        "pred_y = model.predict(testX)"
      ],
      "execution_count": 0,
      "outputs": []
    },
    {
      "cell_type": "code",
      "metadata": {
        "id": "gkplerPRm7gS",
        "colab_type": "code",
        "colab": {
          "base_uri": "https://localhost:8080/",
          "height": 225
        },
        "outputId": "c58c061a-a948-4837-f9a0-2090ded464a7"
      },
      "source": [
        "model.fit(trainX,trainy,          \n",
        "          validation_data=(testX,testy),\n",
        "          epochs=5,\n",
        "          batch_size=32)"
      ],
      "execution_count": 119,
      "outputs": [
        {
          "output_type": "stream",
          "text": [
            "Train on 42000 samples, validate on 18000 samples\n",
            "Epoch 1/5\n",
            "42000/42000 [==============================] - 18s 424us/sample - loss: 0.5332 - accuracy: 0.8309 - val_loss: 0.5681 - val_accuracy: 0.8357\n",
            "Epoch 2/5\n",
            "42000/42000 [==============================] - 18s 421us/sample - loss: 0.5254 - accuracy: 0.8345 - val_loss: 0.5722 - val_accuracy: 0.8345\n",
            "Epoch 3/5\n",
            "42000/42000 [==============================] - 17s 416us/sample - loss: 0.5009 - accuracy: 0.8413 - val_loss: 0.5421 - val_accuracy: 0.8444\n",
            "Epoch 4/5\n",
            "42000/42000 [==============================] - 17s 416us/sample - loss: 0.4861 - accuracy: 0.8452 - val_loss: 0.5470 - val_accuracy: 0.8462\n",
            "Epoch 5/5\n",
            "42000/42000 [==============================] - 17s 416us/sample - loss: 0.4718 - accuracy: 0.8523 - val_loss: 0.5176 - val_accuracy: 0.8540\n"
          ],
          "name": "stdout"
        },
        {
          "output_type": "execute_result",
          "data": {
            "text/plain": [
              "<tensorflow.python.keras.callbacks.History at 0x7f368fce4ac8>"
            ]
          },
          "metadata": {
            "tags": []
          },
          "execution_count": 119
        }
      ]
    },
    {
      "cell_type": "code",
      "metadata": {
        "id": "k-VCfGXsny1L",
        "colab_type": "code",
        "colab": {}
      },
      "source": [
        ""
      ],
      "execution_count": 0,
      "outputs": []
    }
  ]
}